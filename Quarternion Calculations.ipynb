{
 "cells": [
  {
   "cell_type": "markdown",
   "id": "0612b618",
   "metadata": {},
   "source": [
    "# Some computations with quarternions"
   ]
  },
  {
   "cell_type": "markdown",
   "id": "4685707a",
   "metadata": {},
   "source": [
    "## The basics"
   ]
  },
  {
   "cell_type": "code",
   "execution_count": null,
   "id": "93d4f161",
   "metadata": {},
   "outputs": [],
   "source": [
    "\"\"\"\n",
    "The below are some functions that naively perform some basic calculations qith quarternions. Just as complex numbers \n",
    "can be thought of as a 'doubled up' version of the real numbers with operations like multiplication and addition that\n",
    "are consistent with the real ones, so it is that quarternions can be viewed as a 'doubled up' version of the complex\n",
    "numbers with operations like multiplication and addition that are consistent with the complex ones. More details can be\n",
    "found here:\n",
    "\n",
    "https://mathworld.wolfram.com/Quaternion.html\n",
    "\n",
    "\n",
    "In each of the below functions the quarternion a+bi+cj+dk is entered as the list [a, b, c, d].\n",
    "\"\"\""
   ]
  },
  {
   "cell_type": "code",
   "execution_count": 1,
   "id": "a250fb0e",
   "metadata": {},
   "outputs": [],
   "source": [
    "#A function for conjugating a quarternion\n",
    "\n",
    "def quart_conj(in1):\n",
    "    a, b, c, d = in1[0], in1[1], in1[2], in1[3]\n",
    "    print(f\"The conjugate of {a}{'+'*(b>=0)}{b}i{'+'*(c>=0)}{c}j{'+'*(d>=0)}{d}k is {a}{'+'*(b<=0)}{-b}i{'+'*(c<=0)}{-c}j{'+'*(d<=0)}{-d}k.\")"
   ]
  },
  {
   "cell_type": "code",
   "execution_count": 2,
   "id": "f3ae8e4e",
   "metadata": {},
   "outputs": [
    {
     "name": "stdout",
     "output_type": "stream",
     "text": [
      "The conjugate of 1-2i+3j+4k is 1+2i-3j-4k.\n"
     ]
    }
   ],
   "source": [
    "# An example\n",
    "\n",
    "quart_conj([1, -2, 3, 4])"
   ]
  },
  {
   "cell_type": "code",
   "execution_count": 3,
   "id": "e83e5845",
   "metadata": {},
   "outputs": [],
   "source": [
    "# A function for calculating the sum of two quarternions.\n",
    "\n",
    "def quad_sum(in1, in2):\n",
    "    c0, c1, c2, c3 = in1[0] + in2[0], in1[1] + in2[1], in1[2] + in2[2], in1[3] + in2[3] \n",
    "    print(f\"The sum of the quarternions is {c0}{'+'*(c1>=0)}{c1}i{'+'*(c2>=0)}{c2}j{'+'*(c3>=0)}{c3}k.\")"
   ]
  },
  {
   "cell_type": "code",
   "execution_count": 4,
   "id": "b37c2972",
   "metadata": {},
   "outputs": [
    {
     "name": "stdout",
     "output_type": "stream",
     "text": [
      "The sum of the quarternions is 3+5i+8j-3k.\n"
     ]
    }
   ],
   "source": [
    "# An example\n",
    "\n",
    "quad_sum([1,2,3,4], [2,3,5,-7])"
   ]
  },
  {
   "cell_type": "code",
   "execution_count": 16,
   "id": "a5975d74",
   "metadata": {},
   "outputs": [],
   "source": [
    "# A function for calculating the difference of two quarternions.\n",
    "\n",
    "def quad_diff(in1, in2):\n",
    "    c0, c1, c2, c3 = in1[0] - in2[0], in1[1] - in2[1], in1[2] - in2[2], in1[3] - in2[3] \n",
    "    print(f\"The sum of the quarternions is {c0}{'+'*(c1>=0)}{c1}i{'+'*(c2>=0)}{c2}j{'+'*(c3>=0)}{c3}k.\")"
   ]
  },
  {
   "cell_type": "code",
   "execution_count": 17,
   "id": "ac6237d9",
   "metadata": {},
   "outputs": [
    {
     "name": "stdout",
     "output_type": "stream",
     "text": [
      "The sum of the quarternions is -1-1i-2j+11k.\n"
     ]
    }
   ],
   "source": [
    "# An example\n",
    "\n",
    "quad_diff([1,2,3,4], [2,3,5,-7])"
   ]
  },
  {
   "cell_type": "markdown",
   "id": "548cb246",
   "metadata": {},
   "source": [
    "## Multiplication and division"
   ]
  },
  {
   "cell_type": "code",
   "execution_count": 5,
   "id": "e85f6aa3",
   "metadata": {},
   "outputs": [],
   "source": [
    "import numpy as np\n",
    "\n",
    "import warnings\n",
    "warnings.filterwarnings(\"default\", category=DeprecationWarning)"
   ]
  },
  {
   "cell_type": "code",
   "execution_count": 6,
   "id": "e78935e6",
   "metadata": {},
   "outputs": [],
   "source": [
    "# A function for calculating the norm of a quarternion\n",
    "\n",
    "def quart_norm(in1):\n",
    "    print(f\"The norm of your quarternion is {np.sqrt(in1[0] ** 2 +in1[1] ** 2 + in1[2] ** 2 + in1[3] ** 2)}.\")"
   ]
  },
  {
   "cell_type": "code",
   "execution_count": 7,
   "id": "9d02cc21",
   "metadata": {},
   "outputs": [
    {
     "name": "stdout",
     "output_type": "stream",
     "text": [
      "The norm of your quarternion is 5.0.\n"
     ]
    }
   ],
   "source": [
    "# An example\n",
    "\n",
    "quart_norm([2, 2, 1, 4])"
   ]
  },
  {
   "cell_type": "code",
   "execution_count": null,
   "id": "176ff97a",
   "metadata": {},
   "outputs": [],
   "source": [
    "\"\"\"\n",
    "The above function works and is basic enough, though one of the more interesting aspects of quarternions is its\n",
    "relationship with the conjugate. The next two functions take a slightly different approach making greater use of this\n",
    "and/or the functionality of numpy.\n",
    "\"\"\""
   ]
  },
  {
   "cell_type": "code",
   "execution_count": 8,
   "id": "d3c03816",
   "metadata": {},
   "outputs": [],
   "source": [
    "# A different function for calculating the norm of a quarternion\n",
    "\n",
    "def quart_norm_alt(in1):\n",
    "    def quart_conj_alt(in2):\n",
    "        return [in2[0], -in2[1], -in2[2], -in2[3]]\n",
    "    def quart_prod_alt(in1, in2):\n",
    "        a0, a1, a2, a3 = in1[0], in1[1], in1[2], in1[3]\n",
    "        b0, b1, b2, b3 = in2[0], in2[1], in2[2], in2[3] \n",
    "        return a0 * b0 - a1 * b1 - a2 * b2 - a3 * b3 \n",
    "    print(f\"The norm of your quarternion is {np.sqrt(quart_prod_alt(quart_conj_alt(in1), in1))}\")"
   ]
  },
  {
   "cell_type": "code",
   "execution_count": 9,
   "id": "21246b85",
   "metadata": {},
   "outputs": [
    {
     "name": "stdout",
     "output_type": "stream",
     "text": [
      "The norm of your quarternion is 5.0\n"
     ]
    }
   ],
   "source": [
    "# An example\n",
    "\n",
    "quart_norm_alt([2, 2, 1, 4])"
   ]
  },
  {
   "cell_type": "code",
   "execution_count": 10,
   "id": "98125da9",
   "metadata": {},
   "outputs": [],
   "source": [
    "# Yet another function for calculating the norm of a quarternion\n",
    "\n",
    "def quart_norm_alt2(in1):\n",
    "    print(f\"The norm of your quarternion is {np.sqrt(np.array(in1) @ np.array(in1))}\")"
   ]
  },
  {
   "cell_type": "code",
   "execution_count": 11,
   "id": "ad3e027a",
   "metadata": {},
   "outputs": [
    {
     "name": "stdout",
     "output_type": "stream",
     "text": [
      "The norm of your quarternion is 5.0\n"
     ]
    }
   ],
   "source": [
    "quart_norm_alt2([2, 2, 1, 4])"
   ]
  },
  {
   "cell_type": "code",
   "execution_count": 12,
   "id": "1ba89aea",
   "metadata": {},
   "outputs": [],
   "source": [
    "# A function for calculating the product of two quarternions.\n",
    "\n",
    "def quart_prod(in1, in2):\n",
    "    a0, a1, a2, a3 = in1[0], in1[1], in1[2], in1[3]\n",
    "    b0, b1, b2, b3 = in2[0], in2[1], in2[2], in2[3]\n",
    "    c0 = a0 * b0 - a1 * b1 - a2 * b2 - a3 * b3 \n",
    "    c1 = a0 * b1 + a1 * b0 + a2 * b3 - a3 * b2\n",
    "    c2 = a0 * b2 - a1 * b3 + a2 * b0 + a3 * b1\n",
    "    c3 = a0 * b3 + a1 * b2 - a2 * b1 + a3 * b0\n",
    "    print(f\"The product of the quarternions is {c0}{'+'*(c1>=0)}{c1}i{'+'*(c2>=0)}{c2}j{'+'*(c3>=0)}{c3}k.\")"
   ]
  },
  {
   "cell_type": "code",
   "execution_count": 13,
   "id": "ffd8d781",
   "metadata": {},
   "outputs": [
    {
     "name": "stdout",
     "output_type": "stream",
     "text": [
      "The product of the quarternions is 8-6i+4j+28k.\n"
     ]
    }
   ],
   "source": [
    "# An example\n",
    "\n",
    "quart_prod([1, 2, 3, 4], [4, -3, 2, -1])"
   ]
  },
  {
   "cell_type": "code",
   "execution_count": 21,
   "id": "da654e18",
   "metadata": {},
   "outputs": [],
   "source": [
    "#A function for calculating the multiplicative inverse of a quarternion\n",
    "\n",
    "def quart_inv(in1):\n",
    "    if in1 == [0,0,0,0]:\n",
    "        print(\"The quarternion is 0 and therefore not invertible!\")\n",
    "    else:\n",
    "        inv = [in1[0], -in1[1], -in1[2], -in1[3]] / np.sqrt(np.array(in1) @ np.array(in1))\n",
    "        print(f\"The inverse of the quarternion is {inv[0]}{'+'*(in1[1]<=0)}{inv[1]}i{'+'*(in1[2]<=0)}{inv[2]}j{'+'*(in1[3]<=0)}{inv[3]}k.\")"
   ]
  },
  {
   "cell_type": "code",
   "execution_count": 20,
   "id": "584717de",
   "metadata": {},
   "outputs": [
    {
     "name": "stdout",
     "output_type": "stream",
     "text": [
      "The inverse of the quarternion is 0.4-0.4i-0.2j+0.8k.\n"
     ]
    }
   ],
   "source": [
    "# An example\n",
    "\n",
    "quart_inv([2,2,1,-4])"
   ]
  },
  {
   "cell_type": "code",
   "execution_count": 22,
   "id": "c6f6fc5b",
   "metadata": {},
   "outputs": [
    {
     "name": "stdout",
     "output_type": "stream",
     "text": [
      "The quarternion is 0 and therefore not invertible!\n"
     ]
    }
   ],
   "source": [
    "quart_inv([0,0,0,0])"
   ]
  },
  {
   "cell_type": "code",
   "execution_count": 25,
   "id": "aeb4899d",
   "metadata": {},
   "outputs": [
    {
     "name": "stdout",
     "output_type": "stream",
     "text": [
      "C:\\Users\\Ben Fairbairn\n"
     ]
    }
   ],
   "source": [
    "cd"
   ]
  },
  {
   "cell_type": "code",
   "execution_count": null,
   "id": "47dcee3a",
   "metadata": {},
   "outputs": [],
   "source": []
  },
  {
   "cell_type": "code",
   "execution_count": null,
   "id": "83a93541",
   "metadata": {},
   "outputs": [],
   "source": []
  }
 ],
 "metadata": {
  "kernelspec": {
   "display_name": "Python 3 (ipykernel)",
   "language": "python",
   "name": "python3"
  },
  "language_info": {
   "codemirror_mode": {
    "name": "ipython",
    "version": 3
   },
   "file_extension": ".py",
   "mimetype": "text/x-python",
   "name": "python",
   "nbconvert_exporter": "python",
   "pygments_lexer": "ipython3",
   "version": "3.11.3"
  }
 },
 "nbformat": 4,
 "nbformat_minor": 5
}
