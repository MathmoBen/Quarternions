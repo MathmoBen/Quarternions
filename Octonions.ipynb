{
 "cells": [
  {
   "cell_type": "markdown",
   "id": "f4aaf9df",
   "metadata": {},
   "source": [
    "# Octonions"
   ]
  },
  {
   "cell_type": "markdown",
   "id": "b54c49eb",
   "metadata": {},
   "source": [
    "## Some quarternion functions"
   ]
  },
  {
   "cell_type": "code",
   "execution_count": 1,
   "id": "6d78ecc2",
   "metadata": {},
   "outputs": [],
   "source": [
    "#A function for conjugating a quarternion\n",
    "\n",
    "def quart_conj_list(in1):\n",
    "    return [in1[0], -in1[1], -in1[2], -in1[3]]"
   ]
  },
  {
   "cell_type": "code",
   "execution_count": 29,
   "id": "d12af8db",
   "metadata": {},
   "outputs": [],
   "source": [
    "# A function for calculating the sum of two quarternions.\n",
    "\n",
    "def quart_sum_list(in1, in2):\n",
    "    return [in1[0]+in2[0], in1[1]+in2[1], in1[2]+in2[2], in1[3]+in2[3]]"
   ]
  },
  {
   "cell_type": "code",
   "execution_count": 28,
   "id": "299d7152",
   "metadata": {},
   "outputs": [],
   "source": [
    "# A function for calculating the difference of two quarternions.\n",
    "\n",
    "def quart_diff_list(in1, in2):\n",
    "    return [in1[0]-in2[0], in1[1]-in2[1], in1[2]-in2[2], in1[3]-in2[3]]"
   ]
  },
  {
   "cell_type": "code",
   "execution_count": 4,
   "id": "5740360e",
   "metadata": {},
   "outputs": [],
   "source": [
    "# A function for calculating the product of two quarternions.\n",
    "\n",
    "def quart_prod_list(in1, in2):\n",
    "    a0, a1, a2, a3 = in1[0], in1[1], in1[2], in1[3]\n",
    "    b0, b1, b2, b3 = in2[0], in2[1], in2[2], in2[3]\n",
    "    output = []\n",
    "    output.append(a0 * b0 - a1 * b1 - a2 * b2 - a3 * b3)\n",
    "    output.append(a0 * b1 + a1 * b0 + a2 * b3 - a3 * b2)\n",
    "    output.append(a0 * b2 - a1 * b3 + a2 * b0 + a3 * b1)\n",
    "    output.append(a0 * b3 + a1 * b2 - a2 * b1 + a3 * b0)\n",
    "    return output"
   ]
  },
  {
   "cell_type": "markdown",
   "id": "6a267f93",
   "metadata": {},
   "source": [
    "# Basic Octonion calculations"
   ]
  },
  {
   "cell_type": "code",
   "execution_count": 6,
   "id": "c6f7690f",
   "metadata": {},
   "outputs": [],
   "source": [
    "# A function for calculating the conjugate of an octonion\n",
    "\n",
    "def oct_conj(in1):\n",
    "    return [in1[0], -in1[1], -in1[2], -in1[3], -in1[4], -in1[5], -in1[6], -in1[7]]"
   ]
  },
  {
   "cell_type": "code",
   "execution_count": 7,
   "id": "046f1301",
   "metadata": {},
   "outputs": [
    {
     "data": {
      "text/plain": [
       "[1, -2, -3, -4, -5, -6, -7, -8]"
      ]
     },
     "execution_count": 7,
     "metadata": {},
     "output_type": "execute_result"
    }
   ],
   "source": [
    "# An example\n",
    "\n",
    "oct_conj([1,2,3,4,5,6,7,8])"
   ]
  },
  {
   "cell_type": "code",
   "execution_count": 10,
   "id": "2d54edae",
   "metadata": {},
   "outputs": [],
   "source": [
    "# A function for calculating the sum of two octionions.\n",
    "\n",
    "def oct_sum_list(in1, in2):\n",
    "    output = []\n",
    "    for i in range(8):\n",
    "        output.append(in1[i] + in2[i])\n",
    "    return output"
   ]
  },
  {
   "cell_type": "code",
   "execution_count": 11,
   "id": "8ed91212",
   "metadata": {},
   "outputs": [
    {
     "data": {
      "text/plain": [
       "[-1, 5, -2, 11, -6, 19, -10, 27]"
      ]
     },
     "execution_count": 11,
     "metadata": {},
     "output_type": "execute_result"
    }
   ],
   "source": [
    "# An example\n",
    "\n",
    "oct_sum_list([1,2,3,4,5,6,7,8], [-2,3,-5,7,-11,13,-17,19])"
   ]
  },
  {
   "cell_type": "code",
   "execution_count": 12,
   "id": "b3875dc3",
   "metadata": {},
   "outputs": [],
   "source": [
    "# A function for calculating the difference of two octionions.\n",
    "\n",
    "def oct_diff_list(in1, in2):\n",
    "    output = []\n",
    "    for i in range(8):\n",
    "        output.append(in1[i] - in2[i])\n",
    "    return output"
   ]
  },
  {
   "cell_type": "code",
   "execution_count": 13,
   "id": "3f61a834",
   "metadata": {},
   "outputs": [
    {
     "data": {
      "text/plain": [
       "[3, -1, 8, -3, 16, -7, 24, -11]"
      ]
     },
     "execution_count": 13,
     "metadata": {},
     "output_type": "execute_result"
    }
   ],
   "source": [
    "# An example\n",
    "\n",
    "oct_diff_list([1,2,3,4,5,6,7,8], [-2,3,-5,7,-11,13,-17,19])"
   ]
  },
  {
   "cell_type": "code",
   "execution_count": 23,
   "id": "afcb82eb",
   "metadata": {},
   "outputs": [
    {
     "data": {
      "text/plain": [
       "[1, 2, 3, 4]"
      ]
     },
     "execution_count": 23,
     "metadata": {},
     "output_type": "execute_result"
    }
   ],
   "source": [
    "A = [1,2,3,4,5,6,7,8]\n",
    "\n",
    "A[0:4]"
   ]
  },
  {
   "cell_type": "code",
   "execution_count": 30,
   "id": "91f91a78",
   "metadata": {},
   "outputs": [
    {
     "data": {
      "text/plain": [
       "[1, 2, 3, 4, 5]"
      ]
     },
     "execution_count": 30,
     "metadata": {},
     "output_type": "execute_result"
    }
   ],
   "source": [
    "A = [1,2,3,4]\n",
    "\n",
    "A.append([5][0])\n",
    "\n",
    "A"
   ]
  },
  {
   "cell_type": "code",
   "execution_count": 41,
   "id": "4b8dde7e",
   "metadata": {},
   "outputs": [],
   "source": [
    "# A function for calculating the product of two octonions\n",
    "\n",
    "def oct_prod_list(in1, in2):\n",
    "    # converts the inputs into pairs of quarternions\n",
    "    a, b, c, d = in1[0:4], in1[4:], in2[0:4], in2[4:]\n",
    "    # uses the pairs to calculate the product\n",
    "    output = quart_diff_list(quart_prod_list(a,c), quart_prod_list(quart_conj_list(d), b))\n",
    "    output = output + quart_sum_list(quart_prod_list(d,a), quart_prod_list(b, quart_conj_list(c)))\n",
    "    return output\n",
    "            "
   ]
  },
  {
   "cell_type": "code",
   "execution_count": 44,
   "id": "7b2d27dc",
   "metadata": {},
   "outputs": [
    {
     "data": {
      "text/plain": [
       "[-77, -98, -11, 356, -33, -250, -35, 48]"
      ]
     },
     "execution_count": 44,
     "metadata": {},
     "output_type": "execute_result"
    }
   ],
   "source": [
    "# An example\n",
    "\n",
    "oct_prod_list([1,2,3,4,5,6,7,8], [-2, 3, -5, 7, -11, 13, -17, 19])"
   ]
  },
  {
   "cell_type": "code",
   "execution_count": 45,
   "id": "08172061",
   "metadata": {},
   "outputs": [],
   "source": [
    "# A function for calculating the copnjugate of an octonion\n",
    "\n",
    "def oct_conj_list(in1):\n",
    "    output = [in1[0]]\n",
    "    for i in range(1,8):\n",
    "        output.append(-in1[i])\n",
    "    return output"
   ]
  },
  {
   "cell_type": "code",
   "execution_count": 47,
   "id": "4af7372d",
   "metadata": {},
   "outputs": [
    {
     "data": {
      "text/plain": [
       "[1, -2, -3, -4, -5, -6, -7, -8]"
      ]
     },
     "execution_count": 47,
     "metadata": {},
     "output_type": "execute_result"
    }
   ],
   "source": [
    "# An example\n",
    "\n",
    "oct_conj_list([1,2,3,4,5,6,7,8])"
   ]
  },
  {
   "cell_type": "code",
   "execution_count": 48,
   "id": "acddba60",
   "metadata": {},
   "outputs": [],
   "source": [
    "import numpy as np\n",
    "\n",
    "import warnings\n",
    "warnings.filterwarnings(\"default\", category=DeprecationWarning)"
   ]
  },
  {
   "cell_type": "code",
   "execution_count": 49,
   "id": "2c604b1b",
   "metadata": {},
   "outputs": [],
   "source": [
    "# A function for calculating the norm of an octonion\n",
    "\n",
    "def oct_norm(in1):\n",
    "    return np.sqrt(np.array(in1) @ np.array(in1))"
   ]
  },
  {
   "cell_type": "code",
   "execution_count": 51,
   "id": "30c3c197",
   "metadata": {},
   "outputs": [
    {
     "data": {
      "text/plain": [
       "5.0"
      ]
     },
     "execution_count": 51,
     "metadata": {},
     "output_type": "execute_result"
    }
   ],
   "source": [
    "oct_norm([0, 2, 0 , 2, 0, 1, 0, 4])"
   ]
  },
  {
   "cell_type": "code",
   "execution_count": 52,
   "id": "4dd23bbb",
   "metadata": {},
   "outputs": [],
   "source": [
    "# A function for calculating the inverse of an octonion\n",
    "\n",
    "def oct_inv_list(in1):\n",
    "    return oct_conj_list(in1) / (oct_norm(in1) ** 2)"
   ]
  },
  {
   "cell_type": "code",
   "execution_count": 53,
   "id": "e671c3d4",
   "metadata": {},
   "outputs": [
    {
     "data": {
      "text/plain": [
       "[0.9999999999999998,\n",
       " 6.938893903907228e-18,\n",
       " 2.7755575615628914e-17,\n",
       " 2.42861286636753e-17,\n",
       " 0.0,\n",
       " -1.3877787807814457e-17,\n",
       " 2.7755575615628914e-17,\n",
       " 0.0]"
      ]
     },
     "execution_count": 53,
     "metadata": {},
     "output_type": "execute_result"
    }
   ],
   "source": [
    "# An example\n",
    "\n",
    "oct = [1,2,3,4,5,6,7,8]\n",
    "\n",
    "oct_prod_list(oct, oct_inv_list(oct))"
   ]
  },
  {
   "cell_type": "code",
   "execution_count": null,
   "id": "48ffdf8f",
   "metadata": {},
   "outputs": [],
   "source": []
  }
 ],
 "metadata": {
  "kernelspec": {
   "display_name": "Python 3 (ipykernel)",
   "language": "python",
   "name": "python3"
  },
  "language_info": {
   "codemirror_mode": {
    "name": "ipython",
    "version": 3
   },
   "file_extension": ".py",
   "mimetype": "text/x-python",
   "name": "python",
   "nbconvert_exporter": "python",
   "pygments_lexer": "ipython3",
   "version": "3.11.3"
  }
 },
 "nbformat": 4,
 "nbformat_minor": 5
}
