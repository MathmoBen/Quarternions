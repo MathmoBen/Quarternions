{
 "cells": [
  {
   "cell_type": "markdown",
   "id": "87b431a6",
   "metadata": {},
   "source": [
    "# Quaternion calculations output lists"
   ]
  },
  {
   "cell_type": "markdown",
   "id": "507b781c",
   "metadata": {},
   "source": [
    "## The basics"
   ]
  },
  {
   "cell_type": "code",
   "execution_count": 1,
   "id": "fe8d5e9d",
   "metadata": {},
   "outputs": [
    {
     "data": {
      "text/plain": [
       "\"\\nThe below are some functions that naively perform some basic calculations ith quarternions. Just as complex numbers \\ncan be thought of as a 'doubled up' version of the real numbers with operations like multiplication and addition that\\nare consistent with the real ones, so it is that quarternions can be viewed as a 'doubled up' version of the complex\\nnumbers with operations like multiplication and addition that are consistent with the complex ones. More details can be\\nfound here:\\n\\nhttps://mathworld.wolfram.com/Quaternion.html\\n\\n\\nIn each of the below functions the quarternion a+bi+cj+dk is entered as the list [a, b, c, d]. In this case the \\nfunctions return lists as their outputs and as such can be read by each other.\\n\""
      ]
     },
     "execution_count": 1,
     "metadata": {},
     "output_type": "execute_result"
    }
   ],
   "source": [
    "\"\"\"\n",
    "The below are some functions that naively perform some basic calculations with quarternions. Just as complex numbers \n",
    "can be thought of as a 'doubled up' version of the real numbers with operations like multiplication and addition that\n",
    "are consistent with the real ones, so it is that quarternions can be viewed as a 'doubled up' version of the complex\n",
    "numbers with operations like multiplication and addition that are consistent with the complex ones. More details can be\n",
    "found here:\n",
    "\n",
    "https://mathworld.wolfram.com/Quaternion.html\n",
    "\n",
    "\n",
    "In each of the below functions the quarternion a+bi+cj+dk is entered as the list [a, b, c, d]. In this case the \n",
    "functions return lists as their outputs and as such can be read by each other.\n",
    "\"\"\""
   ]
  },
  {
   "cell_type": "code",
   "execution_count": 4,
   "id": "f8ce83e7",
   "metadata": {},
   "outputs": [],
   "source": [
    "#A function for conjugating a quarternion\n",
    "\n",
    "def quart_conj_list(in1):\n",
    "    return [in1[0], -in1[1], -in1[2], -in1[3]]"
   ]
  },
  {
   "cell_type": "code",
   "execution_count": 5,
   "id": "bf1f2286",
   "metadata": {},
   "outputs": [
    {
     "data": {
      "text/plain": [
       "[1, 2, -3, -4]"
      ]
     },
     "execution_count": 5,
     "metadata": {},
     "output_type": "execute_result"
    }
   ],
   "source": [
    "# An example\n",
    "\n",
    "quart_conj_list([1, -2, 3, 4])"
   ]
  },
  {
   "cell_type": "code",
   "execution_count": 7,
   "id": "1d6c8099",
   "metadata": {},
   "outputs": [],
   "source": [
    "# A function for calculating the sum of two quarternions.\n",
    "\n",
    "def quad_sum_list(in1, in2):\n",
    "    return [in1[0]+in2[0], in1[1]+in2[1], in1[2]+in2[2], in1[3]+in2[3]]"
   ]
  },
  {
   "cell_type": "code",
   "execution_count": 8,
   "id": "6a630082",
   "metadata": {},
   "outputs": [
    {
     "data": {
      "text/plain": [
       "[3, 5, 8, 11]"
      ]
     },
     "execution_count": 8,
     "metadata": {},
     "output_type": "execute_result"
    }
   ],
   "source": [
    "# An example\n",
    "\n",
    "quad_sum_list([1, 2, 3, 4], [2, 3, 5, 7])"
   ]
  },
  {
   "cell_type": "code",
   "execution_count": 9,
   "id": "086df6d0",
   "metadata": {},
   "outputs": [],
   "source": [
    "# A function for calculating the difference of two quarternions.\n",
    "\n",
    "def quad_diff_list(in1, in2):\n",
    "    return [in1[0]-in2[0], in1[1]-in2[1], in1[2]-in2[2], in1[3]-in2[3]]"
   ]
  },
  {
   "cell_type": "code",
   "execution_count": 10,
   "id": "8fb223b5",
   "metadata": {},
   "outputs": [
    {
     "data": {
      "text/plain": [
       "[-1, -1, -2, -3]"
      ]
     },
     "execution_count": 10,
     "metadata": {},
     "output_type": "execute_result"
    }
   ],
   "source": [
    "# An example\n",
    "\n",
    "quad_diff_list([1, 2, 3, 4], [2, 3, 5, 7])"
   ]
  },
  {
   "cell_type": "code",
   "execution_count": 42,
   "id": "f213cb75",
   "metadata": {},
   "outputs": [],
   "source": [
    "#Function for displaying a quarternion in the standard manner with i, j, k\n",
    "\n",
    "def quart_display(in1):\n",
    "    print(f\"{in1[0]}{'+'*(in1[1]>=0)}{in1[1]}i{'+'*(in1[2]>=0)}{in1[2]}j{'+'*(in1[3]>=0)}{in1[3]}k\")"
   ]
  },
  {
   "cell_type": "code",
   "execution_count": 43,
   "id": "c38fa718",
   "metadata": {},
   "outputs": [
    {
     "name": "stdout",
     "output_type": "stream",
     "text": [
      "1+2i+3j-4k\n"
     ]
    }
   ],
   "source": [
    "# An example\n",
    "\n",
    "quart_display([1,2,3,-4])"
   ]
  },
  {
   "cell_type": "markdown",
   "id": "b2c1ae7b",
   "metadata": {},
   "source": [
    "## Multiplication and division"
   ]
  },
  {
   "cell_type": "code",
   "execution_count": 11,
   "id": "672b7a3a",
   "metadata": {},
   "outputs": [],
   "source": [
    "import numpy as np\n",
    "\n",
    "import warnings\n",
    "warnings.filterwarnings(\"default\", category=DeprecationWarning)"
   ]
  },
  {
   "cell_type": "code",
   "execution_count": 12,
   "id": "7f426970",
   "metadata": {},
   "outputs": [],
   "source": [
    "# A function for calculating the norm of a quarternion\n",
    "\n",
    "def quart_norm_list(in1):\n",
    "    return np.sqrt(np.array(in1) @ np.array(in1))"
   ]
  },
  {
   "cell_type": "code",
   "execution_count": 13,
   "id": "6013469e",
   "metadata": {},
   "outputs": [
    {
     "data": {
      "text/plain": [
       "5.0"
      ]
     },
     "execution_count": 13,
     "metadata": {},
     "output_type": "execute_result"
    }
   ],
   "source": [
    "# An example\n",
    "\n",
    "quart_norm_list([2, 2, 1, 4])"
   ]
  },
  {
   "cell_type": "code",
   "execution_count": 40,
   "id": "717f7881",
   "metadata": {},
   "outputs": [],
   "source": [
    "# A function for calculating the product of two quarternions.\n",
    "\n",
    "def quart_prod_list(in1, in2):\n",
    "    a0, a1, a2, a3 = in1[0], in1[1], in1[2], in1[3]\n",
    "    b0, b1, b2, b3 = in2[0], in2[1], in2[2], in2[3]\n",
    "    output = []\n",
    "    output.append(a0 * b0 - a1 * b1 - a2 * b2 - a3 * b3)\n",
    "    output.append(a0 * b1 + a1 * b0 + a2 * b3 - a3 * b2)\n",
    "    output.append(a0 * b2 - a1 * b3 + a2 * b0 + a3 * b1)\n",
    "    output.append(a0 * b3 + a1 * b2 - a2 * b1 + a3 * b0)\n",
    "    return output"
   ]
  },
  {
   "cell_type": "code",
   "execution_count": 41,
   "id": "4a20df54",
   "metadata": {},
   "outputs": [
    {
     "data": {
      "text/plain": [
       "[8, -6, 4, 28]"
      ]
     },
     "execution_count": 41,
     "metadata": {},
     "output_type": "execute_result"
    }
   ],
   "source": [
    "# An example\n",
    "\n",
    "quart_prod_list([1, 2, 3, 4], [4, -3, 2, -1])"
   ]
  },
  {
   "cell_type": "code",
   "execution_count": 18,
   "id": "3e698d54",
   "metadata": {},
   "outputs": [],
   "source": [
    "# An alternative approach to multiplication via the the Cayley-Dickson construction\n",
    "\n",
    "def quart_prod_list_CH(in1, in2):\n",
    "    a, b, c, d = in1[0] + in1[1]*1j, in1[2] + in1[3]*1j, in2[0] + in2[1]*1j, in2[2] + in2[3]*1j\n",
    "    first = a * c - d.conjugate() * b\n",
    "    second = d * a + b * c.conjugate()\n",
    "    return [first.real, first.imag, second.real, second.imag]"
   ]
  },
  {
   "cell_type": "code",
   "execution_count": 19,
   "id": "5a601e07",
   "metadata": {},
   "outputs": [
    {
     "data": {
      "text/plain": [
       "[8.0, -6.0, 4.0, 28.0]"
      ]
     },
     "execution_count": 19,
     "metadata": {},
     "output_type": "execute_result"
    }
   ],
   "source": [
    "# An example\n",
    "\n",
    "quart_prod_list_CH([1, 2, 3, 4], [4, -3, 2, -1])"
   ]
  },
  {
   "cell_type": "code",
   "execution_count": 27,
   "id": "6fea2c55",
   "metadata": {},
   "outputs": [],
   "source": [
    "#A function for calculating the multiplicative inverse of a quarternion\n",
    "\n",
    "def quart_inv_list(in1):\n",
    "    if in1 == [0,0,0,0]:\n",
    "        print(\"The quarternion is 0 and therefore not invertible!\")\n",
    "    else:\n",
    "        return quart_conj_list(in1) / (quart_norm_list(in1) ** 2)"
   ]
  },
  {
   "cell_type": "code",
   "execution_count": 28,
   "id": "9151fa06",
   "metadata": {},
   "outputs": [
    {
     "data": {
      "text/plain": [
       "array([ 0.08, -0.08, -0.04,  0.16])"
      ]
     },
     "execution_count": 28,
     "metadata": {},
     "output_type": "execute_result"
    }
   ],
   "source": [
    "# An example\n",
    "\n",
    "quart_inv_list([2,2,1,-4])"
   ]
  },
  {
   "cell_type": "code",
   "execution_count": 37,
   "id": "94c74551",
   "metadata": {},
   "outputs": [
    {
     "data": {
      "text/plain": [
       "[1.0, 0.0, 0.0, 2.7755575615628914e-17]"
      ]
     },
     "execution_count": 37,
     "metadata": {},
     "output_type": "execute_result"
    }
   ],
   "source": [
    "# Checking for correctness\n",
    "\n",
    "q = [1,-2,3,-4]\n",
    "\n",
    "quart_prod_list(q, quart_inv_list(q))"
   ]
  },
  {
   "cell_type": "code",
   "execution_count": null,
   "id": "f03574a1",
   "metadata": {},
   "outputs": [],
   "source": []
  }
 ],
 "metadata": {
  "kernelspec": {
   "display_name": "Python 3 (ipykernel)",
   "language": "python",
   "name": "python3"
  },
  "language_info": {
   "codemirror_mode": {
    "name": "ipython",
    "version": 3
   },
   "file_extension": ".py",
   "mimetype": "text/x-python",
   "name": "python",
   "nbconvert_exporter": "python",
   "pygments_lexer": "ipython3",
   "version": "3.11.3"
  }
 },
 "nbformat": 4,
 "nbformat_minor": 5
}
