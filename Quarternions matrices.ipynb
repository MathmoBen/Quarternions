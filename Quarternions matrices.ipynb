{
 "cells": [
  {
   "cell_type": "markdown",
   "id": "705d9c2d",
   "metadata": {},
   "source": [
    "# Quarternions via complex matrices"
   ]
  },
  {
   "cell_type": "markdown",
   "id": "2e031d40",
   "metadata": {},
   "source": [
    "## The basics"
   ]
  },
  {
   "cell_type": "code",
   "execution_count": null,
   "id": "091e80ba",
   "metadata": {},
   "outputs": [],
   "source": [
    "\"\"\"\n",
    "The below are some functions that naively perform some basic calculations with quarternions. Just as complex numbers \n",
    "can be thought of as a 'doubled up' version of the real numbers with operations like multiplication and addition that\n",
    "are consistent with the real ones, so it is that quarternions can be viewed as a 'doubled up' version of the complex\n",
    "numbers with operations like multiplication and addition that are consistent with the complex ones. More details can be\n",
    "found here:\n",
    "\n",
    "https://mathworld.wolfram.com/Quaternion.html\n",
    "\n",
    "In this notebook we will perform these calculations approaching quarternions and 2x2 complex matrices. The result is a \n",
    "series of functions that are much simpler than their naive counterparts whilst repeatedly using the sledgehammer of\n",
    "numpy.\n",
    "\n",
    "\n",
    "In each of the below functions the quarternion a+bi+cj+dk is entered as the list [a, b, c, d].\n",
    "\"\"\""
   ]
  },
  {
   "cell_type": "code",
   "execution_count": 17,
   "id": "9365ed02",
   "metadata": {},
   "outputs": [],
   "source": [
    "# A function for converting a quarternion to a complex matrix.\n",
    "\n",
    "import numpy as np\n",
    "\n",
    "def quart_mat(in1):\n",
    "    a, b, c, d = in1[0], in1[1], in1[2], in1[3]\n",
    "    return np.array([[a+b*1j, c+d*1j], [-c+d*1j, a-b*1j]])"
   ]
  },
  {
   "cell_type": "code",
   "execution_count": 18,
   "id": "b1355f1f",
   "metadata": {},
   "outputs": [
    {
     "data": {
      "text/plain": [
       "array([[ 1.+2.j,  3.+4.j],\n",
       "       [-3.+4.j,  1.-2.j]])"
      ]
     },
     "execution_count": 18,
     "metadata": {},
     "output_type": "execute_result"
    }
   ],
   "source": [
    "# An example of the above\n",
    "\n",
    "quart_mat([1, 2, 3, 4])"
   ]
  },
  {
   "cell_type": "code",
   "execution_count": 24,
   "id": "0bf88474",
   "metadata": {},
   "outputs": [],
   "source": [
    "# A function for conjugating a quarternion expressing the result as a matrix.\n",
    "\n",
    "def quart_conj_mat(in1):\n",
    "    return quart_mat([in1[0], -in1[1], -in1[2], -in1[3]])  "
   ]
  },
  {
   "cell_type": "code",
   "execution_count": 25,
   "id": "94cc007d",
   "metadata": {},
   "outputs": [
    {
     "data": {
      "text/plain": [
       "array([[ 1.-2.j, -3.-4.j],\n",
       "       [ 3.-4.j,  1.+2.j]])"
      ]
     },
     "execution_count": 25,
     "metadata": {},
     "output_type": "execute_result"
    }
   ],
   "source": [
    "# An example of the above\n",
    "\n",
    "quart_conj_mat([1, 2, 3, 4])"
   ]
  },
  {
   "cell_type": "code",
   "execution_count": 34,
   "id": "8a97ddf2",
   "metadata": {},
   "outputs": [],
   "source": [
    "# A function for calculating the sum of two quarternions and expressing the result as a matrix.\n",
    "\n",
    "def quart_sum_mat(in1, in2):\n",
    "    return quart_mat(in1) + quart_mat(in2)"
   ]
  },
  {
   "cell_type": "code",
   "execution_count": 35,
   "id": "8367e0c0",
   "metadata": {},
   "outputs": [
    {
     "data": {
      "text/plain": [
       "array([[ 3.+5.j,  8.-3.j],\n",
       "       [-8.-3.j,  3.-5.j]])"
      ]
     },
     "execution_count": 35,
     "metadata": {},
     "output_type": "execute_result"
    }
   ],
   "source": [
    "# An example of the above\n",
    "\n",
    "quart_sum_mat([1,2,3,4], [2,3,5,-7])"
   ]
  },
  {
   "cell_type": "code",
   "execution_count": 36,
   "id": "915bf78a",
   "metadata": {},
   "outputs": [],
   "source": [
    "# A function for calculating the difference of two quarternions and expressing the result as a matrix.\n",
    "\n",
    "def quart_diff_mat(in1, in2):\n",
    "    return quart_mat(in1) - quart_mat(in2)"
   ]
  },
  {
   "cell_type": "code",
   "execution_count": 37,
   "id": "5e63ca24",
   "metadata": {},
   "outputs": [
    {
     "data": {
      "text/plain": [
       "array([[-1. -1.j, -2.+11.j],\n",
       "       [ 2.+11.j, -1. +1.j]])"
      ]
     },
     "execution_count": 37,
     "metadata": {},
     "output_type": "execute_result"
    }
   ],
   "source": [
    "# An example of the above\n",
    "\n",
    "quart_diff_mat([1,2,3,4], [2,3,5,-7])"
   ]
  },
  {
   "cell_type": "markdown",
   "id": "7a40c07c",
   "metadata": {},
   "source": [
    "## Multiplication and division"
   ]
  },
  {
   "cell_type": "code",
   "execution_count": 33,
   "id": "9d5308e6",
   "metadata": {},
   "outputs": [],
   "source": [
    "import warnings\n",
    "warnings.filterwarnings(\"default\", category=DeprecationWarning)"
   ]
  },
  {
   "cell_type": "code",
   "execution_count": 42,
   "id": "1adbe38f",
   "metadata": {},
   "outputs": [],
   "source": [
    "# A function for calculating the norm of a quarternion via matrices\n",
    "\n",
    "def quart_norm_mat(in1):\n",
    "    return np.sqrt(np.linalg.det(quart_mat(in1))).real"
   ]
  },
  {
   "cell_type": "code",
   "execution_count": 43,
   "id": "b1acb058",
   "metadata": {},
   "outputs": [
    {
     "data": {
      "text/plain": [
       "5.0"
      ]
     },
     "execution_count": 43,
     "metadata": {},
     "output_type": "execute_result"
    }
   ],
   "source": [
    "# An example of the above\n",
    "\n",
    "quart_norm_mat([2, 2, 1, 4])"
   ]
  },
  {
   "cell_type": "code",
   "execution_count": 44,
   "id": "85c73a1a",
   "metadata": {},
   "outputs": [],
   "source": [
    "# A function for calculating the product of two quarternions as matrices.\n",
    "\n",
    "def quart_prod_mat(in1, in2):\n",
    "    return quart_mat(in1) @ quart_mat(in2)"
   ]
  },
  {
   "cell_type": "code",
   "execution_count": 45,
   "id": "68733b90",
   "metadata": {},
   "outputs": [
    {
     "data": {
      "text/plain": [
       "array([[ 8. -6.j,  4.+28.j],\n",
       "       [-4.+28.j,  8. +6.j]])"
      ]
     },
     "execution_count": 45,
     "metadata": {},
     "output_type": "execute_result"
    }
   ],
   "source": [
    "# An example of the above\n",
    "\n",
    "quart_prod_mat([1, 2, 3, 4], [4, -3, 2, -1])"
   ]
  },
  {
   "cell_type": "code",
   "execution_count": 46,
   "id": "89d9170b",
   "metadata": {},
   "outputs": [],
   "source": [
    "# A function for calculating the multiplicative inverse of a quarternion as matrices\n",
    "\n",
    "def quart_inv_mat(in1):\n",
    "    if in1 == [0,0,0,0]:\n",
    "        print(\"The quarternion is 0 and therefore not invertible!\")\n",
    "    else:\n",
    "        return quart_conj_mat(in1) / quart_norm_mat(in1)"
   ]
  },
  {
   "cell_type": "code",
   "execution_count": 47,
   "id": "3860447a",
   "metadata": {},
   "outputs": [
    {
     "data": {
      "text/plain": [
       "array([[ 0.4-0.4j, -0.2-0.8j],\n",
       "       [ 0.2-0.8j,  0.4+0.4j]])"
      ]
     },
     "execution_count": 47,
     "metadata": {},
     "output_type": "execute_result"
    }
   ],
   "source": [
    "# An example of the above\n",
    "\n",
    "quart_inv_mat([2, 2, 1, 4])"
   ]
  },
  {
   "cell_type": "code",
   "execution_count": 48,
   "id": "1ac103f0",
   "metadata": {},
   "outputs": [
    {
     "name": "stdout",
     "output_type": "stream",
     "text": [
      "The quarternion is 0 and therefore not invertible!\n"
     ]
    }
   ],
   "source": [
    "quart_inv_mat([0,0,0,0])"
   ]
  },
  {
   "cell_type": "code",
   "execution_count": null,
   "id": "244ff137",
   "metadata": {},
   "outputs": [],
   "source": []
  }
 ],
 "metadata": {
  "kernelspec": {
   "display_name": "Python 3 (ipykernel)",
   "language": "python",
   "name": "python3"
  },
  "language_info": {
   "codemirror_mode": {
    "name": "ipython",
    "version": 3
   },
   "file_extension": ".py",
   "mimetype": "text/x-python",
   "name": "python",
   "nbconvert_exporter": "python",
   "pygments_lexer": "ipython3",
   "version": "3.11.3"
  }
 },
 "nbformat": 4,
 "nbformat_minor": 5
}
